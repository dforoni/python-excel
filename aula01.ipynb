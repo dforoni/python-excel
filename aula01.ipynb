{
 "cells": [
  {
   "cell_type": "markdown",
   "metadata": {},
   "source": [
    "# Aula 01"
   ]
  },
  {
   "cell_type": "markdown",
   "metadata": {
    "vscode": {
     "languageId": "plaintext"
    }
   },
   "source": [
    "## Objetivo da aula:\n",
    "\n",
    "1. Instalar as ferramentas necessarias para curso:\n",
    "\n",
    "    * [Python](https://www.python.org/)\n",
    "    * [VS Code](https://code.visualstudio.com/)    \n",
    "    * [GitHub](https://docs.github.com/pt/get-started/start-your-journey/creating-an-account-on-github)\n",
    "    * Jupyter\n",
    "\n",
    "2. Introdução à comunidade Open Source\n",
    "\n",
    "    [O que é Open Source?](https://opensource.guide/pt/starting-a-project/#o-o-que-e-porqu%C3%AA-do-open-source)\n",
    "\n",
    "    GitHub é uma plataforma de hospedagem de código-fonte baseada em Git, usada para controle de versão e colaboração em projetos de software, especialmente Open Source. Ele permite que desenvolvedores trabalhem juntos em código de qualquer lugar do mundo.\n",
    "\n",
    "    [**Pandas**](https://github.com/pandas-dev/pandas)\n",
    "\n",
    "3. Organização de Projetos\n",
    "\n",
    "    * Organizando códigos e pastas\n",
    "\n",
    "4. Primeiros passo com o Python"
   ]
  },
  {
   "cell_type": "markdown",
   "metadata": {},
   "source": [
    "# Bora programar..."
   ]
  },
  {
   "cell_type": "markdown",
   "metadata": {},
   "source": [
    "**O que vocês acham que é programar?**\n",
    "\n",
    "**Vocês já usaram um aplicativo que depende de código?**\n"
   ]
  },
  {
   "cell_type": "markdown",
   "metadata": {},
   "source": [
    "## Introdução ao Python"
   ]
  },
  {
   "cell_type": "code",
   "execution_count": null,
   "metadata": {},
   "outputs": [
    {
     "name": "stdout",
     "output_type": "stream",
     "text": [
      "Olá, mundo!\n"
     ]
    }
   ],
   "source": [
    "# print() exibe algo na tela para a gente\n",
    "print(\"Olá, mundo!\")\n"
   ]
  },
  {
   "cell_type": "code",
   "execution_count": null,
   "metadata": {},
   "outputs": [
    {
     "name": "stdout",
     "output_type": "stream",
     "text": [
      "Prazer em te conhecer, Quenia!\n"
     ]
    }
   ],
   "source": [
    "# agora algo interativo\n",
    "nome = input(\"Qual é o seu nome? \")\n",
    "print(\"Prazer em te conhecer, \" + nome + \"!\")\n"
   ]
  },
  {
   "cell_type": "markdown",
   "metadata": {},
   "source": [
    "### O que é uma variável?\n",
    "\n",
    "**Definição básica:**\n",
    "\n",
    "Uma variável é como uma caixa onde guardamos informações que podemos usar depois.\n",
    "\n",
    "**Analogia:**\n",
    "\n",
    "Imagine que você tem uma etiqueta com a palavra \"Nome\" e escreve \"Rafaela\" nela.\n",
    "\n",
    "Essa etiqueta representa o nome da variável.\n",
    "\"Rafaela\" é o valor armazenado na variável."
   ]
  },
  {
   "cell_type": "code",
   "execution_count": 4,
   "metadata": {},
   "outputs": [],
   "source": [
    "nome = \"Quenia\" # Variável guardando um texto\n",
    "idade = 35 # Variável guardando um número\n",
    "altura = 1.64 # Variável guardando um número decimal\n",
    "tem_pet = True # Variável guardando um valor booleano"
   ]
  }
 ],
 "metadata": {
  "kernelspec": {
   "display_name": "Python 3",
   "language": "python",
   "name": "python3"
  },
  "language_info": {
   "codemirror_mode": {
    "name": "ipython",
    "version": 3
   },
   "file_extension": ".py",
   "mimetype": "text/x-python",
   "name": "python",
   "nbconvert_exporter": "python",
   "pygments_lexer": "ipython3",
   "version": "3.12.1"
  }
 },
 "nbformat": 4,
 "nbformat_minor": 2
}
