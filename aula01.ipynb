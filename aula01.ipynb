{
 "cells": [
  {
   "cell_type": "markdown",
   "metadata": {},
   "source": [
    "# Agenda - Aula 01"
   ]
  },
  {
   "cell_type": "markdown",
   "metadata": {},
   "source": [
    "## Bem-vindas ao Mundo Open Source com Python (3h)\n",
    "\n",
    "**1. Introdução e Contextualização (30 minutos)**\n",
    "\n",
    "* Boas-vindas e apresentação do tema (5 minutos):\n",
    "\n",
    "    * Apresentar o objetivo da aula.\n",
    "    * Destacar a importância do Python e do open source no mundo atual.\n",
    "\n",
    "* O que é Python? (10 minutos):\n",
    "\n",
    "    * Explicar de forma simples o que é Python: uma linguagem de programação fácil de aprender, usada em diversas áreas (dados, automação, web, etc.).\n",
    "    * Mostrar exemplos de aplicações reais (análise de dados, automação de tarefas, desenvolvimento web, etc.).\n",
    "    * Destacar o ecossistema open source: colaboração global, custo zero e personalização.\n",
    "\n",
    "* Vantagens de migrar para Python (10 minutos):\n",
    "\n",
    "    * Custo zero: Python é gratuito e tem uma vasta gama de bibliotecas gratuitas.\n",
    "    * Flexibilidade: pode ser usado para diversas tarefas, desde análise de dados até automação de processos.\n",
    "    * Comunidade ativa: suporte e recursos disponíveis gratuitamente.\n",
    "\n",
    "* Roteiro da aula (5 minutos):\n",
    "\n",
    "    * Explique brevemente o que será abordado nas próximas horas.\n"
   ]
  },
  {
   "cell_type": "markdown",
   "metadata": {},
   "source": [
    "**2. Configuração do Ambiente (30 minutos)**\n",
    "\n",
    "* Instalação do Python (10 minutos):\n",
    "    * Guiar os estudantes na instalação do Python (usando o site oficial: python.org).\n",
    "    * Explicar a importância de marcar a opção \"Add Python to PATH\".\n",
    "\n",
    "* Instalação de ferramentas livres (15 minutos):\n",
    "\n",
    "    * Jupyter Notebook: Mostrar como instalar e abrir o Jupyter para criar um ambiente interativo.\n",
    "    * VS Code: Instalar e configurar o editor de código, destacando sua facilidade de uso e extensões úteis.\n",
    "    * Git e GitHub: Explicar brevemente o que são e como instalá-los (ênfase na colaboração e versionamento).\n",
    "\n",
    "* Teste do ambiente (5 minutos):\n",
    "\n",
    "    * Pedir para os estudantes abrirem o Jupyter Notebook e executarem um comando simples, como print(\"Olá, mundo!\").\n"
   ]
  },
  {
   "cell_type": "markdown",
   "metadata": {},
   "source": [
    "**3. Introdução à Comunidade Open Source (20 minutos)**\n",
    "\n",
    "* O que é open source? (5 minutos):\n",
    "    * Explicar o conceito de software livre e colaboração global.\n",
    "    \n",
    "\n",
    "* Onde encontrar suporte e pacotes (10 minutos):\n",
    "    * Mostrar sites como PyPI (Python Package Index), Stack Overflow e fóruns oficiais.\n",
    "    * Destacar a importância de ler documentações e participar de comunidades.\n",
    "\n",
    "* Exemplo de projeto open source (5 minutos):\n",
    "    * Mostrar um projeto simples no GitHub e explicar como ele é construído e mantido pela comunidade.\n"
   ]
  },
  {
   "cell_type": "markdown",
   "metadata": {},
   "source": [
    "**4. Organização de Projetos (20 minutos)**\n",
    "\n",
    "* Estrutura de pastas e arquivos (10 minutos):\n",
    "    * Mostre um exemplo de como organizar um projeto Python (pastas para dados, código, documentação, etc.).\n",
    "    * Explique a importância de manter os arquivos organizados.\n",
    "\n",
    "* Prática (10 minutos):\n",
    "    * Peça para os participantes criarem uma estrutura básica de pastas no computador deles.\n"
   ]
  },
  {
   "cell_type": "markdown",
   "metadata": {},
   "source": [
    "**5. Primeiros Passos com Python (60 minutos)**"
   ]
  }
 ],
 "metadata": {
  "language_info": {
   "name": "python"
  }
 },
 "nbformat": 4,
 "nbformat_minor": 2
}
