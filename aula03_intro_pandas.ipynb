{
 "cells": [
  {
   "cell_type": "markdown",
   "metadata": {
    "id": "KLNOXfinUben"
   },
   "source": [
    "# <font color='gray'>  Importando a Biblioteca Pandas\n",
    "\n",
    "----\n",
    "\n",
    "Sempre que abrimos um arquivo notebook precisamos importar a biblioteca Pandas."
   ]
  },
  {
   "cell_type": "code",
   "execution_count": null,
   "metadata": {
    "id": "uFph0KBYUbeo"
   },
   "outputs": [],
   "source": [
    "# importando a biblioteca Pandas\n",
    "import pandas as pd"
   ]
  },
  {
   "cell_type": "markdown",
   "metadata": {
    "id": "QzhX3eoCUbep"
   },
   "source": [
    "# <font color='gray'>  Carregando os dados\n",
    "\n",
    "----  \n",
    "\n",
    "**fonte:** https://www.gov.br/prf/pt-br/acesso-a-informacao/dados-abertos/dados-abertos-acidentes"
   ]
  },
  {
   "cell_type": "code",
   "execution_count": null,
   "metadata": {
    "id": "ECoCk3YQUbeq",
    "outputId": "326e9cbd-fe55-4773-f804-0e078d2c5f4a"
   },
   "outputs": [],
   "source": [
    "# carregando os dados\n",
    "dados = pd.read_csv('dados/acidentes2025.csv', sep=';', encoding=\"latin-1\")\n",
    "dados.head()"
   ]
  },
  {
   "cell_type": "markdown",
   "metadata": {
    "id": "c8R3pL1hUber"
   },
   "source": [
    "# <font color='gray'>  Inspecionando os dados\n",
    "\n",
    "----"
   ]
  },
  {
   "cell_type": "code",
   "execution_count": null,
   "metadata": {
    "id": "cBn9CuSgUbes",
    "outputId": "158178ee-97e8-4579-9ed9-33b21e960763"
   },
   "outputs": [],
   "source": [
    "# verificando a dimensao do dataframe\n",
    "dados.shape"
   ]
  },
  {
   "cell_type": "code",
   "execution_count": null,
   "metadata": {
    "id": "zG-3gT73Ubes",
    "outputId": "5d16bbea-c252-4ffc-c8e5-6d34be2eead4"
   },
   "outputs": [],
   "source": [
    "# informacoes do dataframe\n",
    "dados.info()"
   ]
  },
  {
   "cell_type": "code",
   "execution_count": null,
   "metadata": {
    "id": "KhdPJQkrUbet",
    "outputId": "a21d3355-cb71-4121-df4b-e0567461d52e"
   },
   "outputs": [],
   "source": [
    "# verificando os dados unicos da variavel 'data_inversa'\n",
    "dados['data_inversa'].nunique()"
   ]
  },
  {
   "cell_type": "markdown",
   "metadata": {
    "id": "qO9oUFyV3GyX"
   },
   "source": [
    "#  <font color='gray'>  Selecionando os dados por rótulo\n",
    "\n",
    "----\n",
    "\n",
    "Com o método **loc** conseguimos acessar um grupo de linhas e colunas por rótulos.\n",
    "\n",
    "**Documentação:**\n",
    "\n",
    "https://pandas.pydata.org/pandas-docs/stable/reference/api/pandas.DataFrame.loc.html?highlight=loc#pandas.DataFrame.loc"
   ]
  },
  {
   "cell_type": "markdown",
   "metadata": {
    "id": "FUC00IEj3dFu"
   },
   "source": [
    "##  Selecionar colunas por rótulo (nome coluna)\n",
    "\n",
    "\n",
    "![filtro.PNG](data:image/png;base64,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)\n"
   ]
  },
  {
   "cell_type": "code",
   "execution_count": null,
   "metadata": {
    "colab": {
     "base_uri": "https://localhost:8080/"
    },
    "id": "jhZ93wkK3EaO",
    "outputId": "3a7fa372-2a56-426d-b0d1-a05e917076dc"
   },
   "outputs": [],
   "source": [
    "# selecionando por nome de coluna (Series) - 1 dimensão (utilizando .loc)\n",
    "dados.loc[:, 'municipio']"
   ]
  },
  {
   "cell_type": "code",
   "execution_count": null,
   "metadata": {
    "colab": {
     "base_uri": "https://localhost:8080/",
     "height": 419
    },
    "id": "l4eq88oA3qfT",
    "outputId": "df65f81b-a085-49c2-a403-05925ee609b0"
   },
   "outputs": [],
   "source": [
    "# selecionando multiplas colunas (DataFrame) - 2 dimensões (utilizando .loc)\n",
    "dados.loc[:, ['id','data_inversa','dia_semana']]"
   ]
  },
  {
   "cell_type": "code",
   "execution_count": null,
   "metadata": {
    "colab": {
     "base_uri": "https://localhost:8080/",
     "height": 419
    },
    "id": "5CD6nB9V3tIC",
    "outputId": "a5123e8c-daaf-4a36-d507-45188fbd910b"
   },
   "outputs": [],
   "source": [
    "# selecionando um intervalo de colunas (DataFrame)\n",
    "dados.loc[: , \"dia_semana\":\"causa_acidente\"]"
   ]
  },
  {
   "cell_type": "markdown",
   "metadata": {
    "id": "SpJxrOg07JaT"
   },
   "source": [
    "##  Selecionando por linhas\n",
    "\n",
    "\n",
    "![filtroRows.PNG](data:image/png;base64,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)\n",
    "\n"
   ]
  },
  {
   "cell_type": "code",
   "execution_count": null,
   "metadata": {
    "colab": {
     "base_uri": "https://localhost:8080/"
    },
    "id": "EWRyEabc7P11",
    "outputId": "eced5fe5-dcf9-4097-d3cb-57915a782498"
   },
   "outputs": [],
   "source": [
    "# selecionando uma linha (Series) - 1 dimensão (utilizando .loc)\n",
    "dados.loc[4, :]"
   ]
  },
  {
   "cell_type": "code",
   "execution_count": null,
   "metadata": {
    "colab": {
     "base_uri": "https://localhost:8080/",
     "height": 114
    },
    "id": "v-M-N-1q87P9",
    "outputId": "bf230225-e5fb-4918-cfd9-a34cf14d3280"
   },
   "outputs": [],
   "source": [
    "# selecionando uma linha (DataFrame) - 2 dimensões (utilizando .loc)\n",
    "dados.loc[[4], :]"
   ]
  },
  {
   "cell_type": "code",
   "execution_count": null,
   "metadata": {
    "colab": {
     "base_uri": "https://localhost:8080/",
     "height": 278
    },
    "id": "uv2MZV0r8-1e",
    "outputId": "86900bc0-15e1-4a33-d454-0065577c80d4"
   },
   "outputs": [],
   "source": [
    "# selecionando múltiplas linhas (DataFrame) - 2 dimensões (utilizando .loc)\n",
    "dados.loc[[3,4,10], :]"
   ]
  },
  {
   "cell_type": "code",
   "execution_count": null,
   "metadata": {
    "colab": {
     "base_uri": "https://localhost:8080/",
     "height": 357
    },
    "id": "RbZ_AucC9DGf",
    "outputId": "e872a351-28c0-433c-bcf8-926a7e0f83b4"
   },
   "outputs": [],
   "source": [
    "# selecionando um intervalo de linhas (DataFrame)\n",
    "dados.loc[2:6, :]"
   ]
  },
  {
   "cell_type": "markdown",
   "metadata": {
    "id": "1ryV-WzK9MeZ"
   },
   "source": [
    "##  Selecionando por Linhas e Colunas\n",
    "\n",
    "![filtroColumnsRows.PNG](data:image/png;base64,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)"
   ]
  },
  {
   "cell_type": "code",
   "execution_count": null,
   "metadata": {
    "colab": {
     "base_uri": "https://localhost:8080/",
     "height": 35
    },
    "id": "KfwQ4rM19Gzu",
    "outputId": "d680ac8a-8648-41d8-e00d-54ee6fcd30fb"
   },
   "outputs": [],
   "source": [
    "# selecionando um valor único (escalar)\n",
    "dados.loc[4, 'causa_acidente']"
   ]
  },
  {
   "cell_type": "code",
   "execution_count": null,
   "metadata": {
    "colab": {
     "base_uri": "https://localhost:8080/",
     "height": 623
    },
    "id": "0M1wjhqD9W8P",
    "outputId": "a8fbd203-324d-42f0-b303-3c2c86271639"
   },
   "outputs": [],
   "source": [
    "# selecionando um valor único (escalar), retorno linha e coluna\n",
    "dados.loc[4, 'id':'causa_acidente']"
   ]
  },
  {
   "cell_type": "markdown",
   "metadata": {
    "id": "Ui84LK7gyUNZ"
   },
   "source": [
    "## <font color='gray'>  **1° Desafio:**  \n",
    "\n",
    "    1. selecionar as colunas feridos_graves, ilesos, mortos;\n",
    "    2. selcionar as linhas entre 10 até 50; e\n",
    "    3. criar um novo dataframe com apenas as colunas de 'id' até 'veiculos'.\n",
    "    \n",
    "</font>"
   ]
  },
  {
   "cell_type": "code",
   "execution_count": null,
   "metadata": {
    "id": "DKiTt6J5Ubez",
    "outputId": "6f2a237c-dd45-41b1-b8a8-e4b8140c9b71"
   },
   "outputs": [],
   "source": [
    "from IPython.display import Image\n",
    "from IPython.core.display import HTML\n",
    "Image(url=\"https://media.giphy.com/media/XoV0OMim9iQGjnLtBv/giphy.gif?cid=ecf05e47yyn92iffmsgb1hyw99u3e6hiurysgra611x3mflh&rid=giphy.gif&ct=g\")"
   ]
  },
  {
   "cell_type": "code",
   "execution_count": null,
   "metadata": {
    "colab": {
     "base_uri": "https://localhost:8080/",
     "height": 1000
    },
    "id": "Crwp0aD3PAUE",
    "outputId": "bc7e0edc-96b0-4988-f6bb-87e9f5bc0b12"
   },
   "outputs": [],
   "source": [
    "# Desafio 1.1\n"
   ]
  },
  {
   "cell_type": "code",
   "execution_count": null,
   "metadata": {
    "id": "FI4j1mltUbez",
    "outputId": "9d733721-3cdb-4718-e763-33e66154bd32"
   },
   "outputs": [],
   "source": [
    "# Desafio 1.2\n"
   ]
  },
  {
   "cell_type": "code",
   "execution_count": null,
   "metadata": {
    "id": "SKc_oJU3Ube0",
    "outputId": "a709f6e0-f933-47f0-86a4-c1f223c85b1c"
   },
   "outputs": [],
   "source": [
    "# Desafio 1.3\n"
   ]
  },
  {
   "cell_type": "markdown",
   "metadata": {
    "id": "C3_Kiigt9pY1"
   },
   "source": [
    "#  Selecionando por posição (indice)\n",
    "\n",
    "**Documentação:**\n",
    "\n",
    "https://pandas.pydata.org/pandas-docs/stable/reference/api/pandas.DataFrame.iloc.html?highlight=iloc#pandas.DataFrame.iloc"
   ]
  },
  {
   "cell_type": "code",
   "execution_count": null,
   "metadata": {
    "colab": {
     "base_uri": "https://localhost:8080/"
    },
    "id": "Ag50Ruur9bdF",
    "outputId": "0582cf13-c838-46f2-9386-2a8d15a686c4"
   },
   "outputs": [],
   "source": [
    "# selecionando por posição passando um número inteiro (utilizando .iloc)\n",
    "dados.iloc[4]"
   ]
  },
  {
   "cell_type": "code",
   "execution_count": null,
   "metadata": {
    "colab": {
     "base_uri": "https://localhost:8080/",
     "height": 35
    },
    "id": "RwLabhOh9xG0",
    "outputId": "8b0e586a-dbf3-43f3-ed85-ff8878788ecf"
   },
   "outputs": [],
   "source": [
    "# selecionando por posição de linha e posição de coluna (utilizando .iloc)\n",
    "dados.iloc[4, 0]"
   ]
  },
  {
   "cell_type": "code",
   "execution_count": null,
   "metadata": {
    "colab": {
     "base_uri": "https://localhost:8080/"
    },
    "id": "jeRjXCvq91YU",
    "outputId": "a07a09d0-9107-4191-f6a4-c32789b45093"
   },
   "outputs": [],
   "source": [
    "# selecionando por posição de coluna (Series) - 1 dimensão (utilizando .iloc)\n",
    "dados.iloc[:, 0]"
   ]
  },
  {
   "cell_type": "code",
   "execution_count": null,
   "metadata": {
    "colab": {
     "base_uri": "https://localhost:8080/",
     "height": 419
    },
    "id": "cttQzqdf94Kr",
    "outputId": "f798f79f-5443-4204-9d27-7e38fc0f68c6"
   },
   "outputs": [],
   "source": [
    "# selecionando multiplas colunas (DataFrame) - 2 Dimensões (utilizando .iloc)\n",
    "dados.iloc[:, 1:3]"
   ]
  },
  {
   "cell_type": "code",
   "execution_count": null,
   "metadata": {
    "colab": {
     "base_uri": "https://localhost:8080/",
     "height": 538
    },
    "id": "Rh1XzpqW99A4",
    "outputId": "b283a76e-0645-4960-8c56-7a17218ad30c"
   },
   "outputs": [],
   "source": [
    "# selecionando um intervalo de colunas (DataFrame) (utilizando .iloc)\n",
    "dados.iloc[:, 2:-1]"
   ]
  },
  {
   "cell_type": "code",
   "execution_count": null,
   "metadata": {
    "colab": {
     "base_uri": "https://localhost:8080/",
     "height": 114
    },
    "id": "pthCrAC2-B7d",
    "outputId": "e344681a-7012-4897-a691-48be5fb5a014"
   },
   "outputs": [],
   "source": [
    "# selecionando uma linha (DataFrame) - 2 dimensões (utilizando .iloc)\n",
    "dados.iloc[[4], :]"
   ]
  },
  {
   "cell_type": "code",
   "execution_count": null,
   "metadata": {
    "colab": {
     "base_uri": "https://localhost:8080/",
     "height": 227
    },
    "id": "id-Pgz0d-Fj9",
    "outputId": "0604ee2b-9ec0-4213-aa21-d0eb78c6676c"
   },
   "outputs": [],
   "source": [
    "# selecionando múltiplas linhas (DataFrame) - 2 dimensões (utilizando .iloc)\n",
    "dados.iloc[[1,2,1000], :]"
   ]
  },
  {
   "cell_type": "code",
   "execution_count": null,
   "metadata": {
    "colab": {
     "base_uri": "https://localhost:8080/",
     "height": 1000
    },
    "id": "zWOb3kCT-Id9",
    "outputId": "92f917f2-3f44-4a49-e86d-6091070af624"
   },
   "outputs": [],
   "source": [
    "# selecionando um intervalo de linhas (DataFrame) (utilizando .iloc)\n",
    "dados.iloc[100:111, :]"
   ]
  },
  {
   "cell_type": "markdown",
   "metadata": {
    "id": "hiNQN-_pyzgt"
   },
   "source": [
    "## <font color='gray'>  **2° Desafio:**  \n",
    "\n",
    "1. selecionar as colunas entre 3 até 5;\n",
    "2. selecionar linhas entre 150 até 156; e\n",
    "3. Criar um novo dataframe com apenas as colunas de 'id' até 'veiculos'.\n",
    "\n",
    "\n",
    "</font>"
   ]
  },
  {
   "cell_type": "code",
   "execution_count": null,
   "metadata": {
    "id": "VUQHAt6tUbe2",
    "outputId": "e0b3b416-3925-4437-8fd8-bee50396372f"
   },
   "outputs": [],
   "source": [
    "from IPython.display import Image\n",
    "from IPython.core.display import HTML\n",
    "Image(url=\"https://media.giphy.com/media/XoV0OMim9iQGjnLtBv/giphy.gif?cid=ecf05e47yyn92iffmsgb1hyw99u3e6hiurysgra611x3mflh&rid=giphy.gif&ct=g\")"
   ]
  },
  {
   "cell_type": "code",
   "execution_count": null,
   "metadata": {
    "colab": {
     "base_uri": "https://localhost:8080/",
     "height": 278
    },
    "id": "s9A63FyNVElM",
    "outputId": "a7caff0e-9057-4a4d-b0d1-fb3987b34e69"
   },
   "outputs": [],
   "source": [
    "# Desafio 2.1\n"
   ]
  },
  {
   "cell_type": "code",
   "execution_count": null,
   "metadata": {
    "colab": {
     "base_uri": "https://localhost:8080/",
     "height": 419
    },
    "id": "kvzBm6ABU0Mn",
    "outputId": "93274f20-d63a-4ef9-8ff5-1478379238f9"
   },
   "outputs": [],
   "source": [
    "# Desafio 2.2\n"
   ]
  },
  {
   "cell_type": "code",
   "execution_count": null,
   "metadata": {
    "id": "t3TjC5wKUbe8",
    "outputId": "1e9d7041-3ea6-4171-d42a-ff8b012523a9"
   },
   "outputs": [],
   "source": [
    "# Desafio 2.3\n"
   ]
  },
  {
   "cell_type": "markdown",
   "metadata": {
    "id": "HWLqCrve-Qco"
   },
   "source": [
    "#  <font color='gray'> Alterando e selecionando por índice\n",
    "\n",
    "\n",
    "**Documentação:**\n",
    "\n",
    "https://pandas.pydata.org/docs/reference/api/pandas.Index.html\n",
    "\n",
    "https://pandas.pydata.org/docs/reference/api/pandas.DataFrame.set_index.html?highlight=set_index\n",
    "\n",
    "https://pandas.pydata.org/docs/reference/api/pandas.DataFrame.reset_index.html?highlight=reset_index#pandas.DataFrame.reset_index"
   ]
  },
  {
   "cell_type": "code",
   "execution_count": null,
   "metadata": {
    "colab": {
     "base_uri": "https://localhost:8080/"
    },
    "id": "6Ue_CGSrYnOo",
    "outputId": "e7af7e6c-52a2-43fd-830f-ec5ba650e072"
   },
   "outputs": [],
   "source": [
    "# verificando os indices\n",
    "dados.index"
   ]
  },
  {
   "cell_type": "code",
   "execution_count": null,
   "metadata": {
    "colab": {
     "base_uri": "https://localhost:8080/",
     "height": 756
    },
    "id": "cCBO1inZ-Lxl",
    "outputId": "4710e8f2-0d7b-45c0-da80-f20b5c92e70c"
   },
   "outputs": [],
   "source": [
    "# utilizando a coluna nome para ser o novo índice dos dados\n",
    "dados_indice = dados.set_index('id')\n",
    "dados_indice"
   ]
  },
  {
   "cell_type": "code",
   "execution_count": null,
   "metadata": {
    "colab": {
     "base_uri": "https://localhost:8080/"
    },
    "id": "GFOD6t71-qXd",
    "outputId": "1d567f55-ef07-4679-8629-5413ce162814"
   },
   "outputs": [],
   "source": [
    "# selecionando pelo índice novo\n",
    "dados_indice.loc[661396]"
   ]
  },
  {
   "cell_type": "code",
   "execution_count": null,
   "metadata": {
    "colab": {
     "base_uri": "https://localhost:8080/"
    },
    "id": "1RdmTE17-82N",
    "outputId": "ef21fe82-82a3-4b2b-e5db-73d49782d2da"
   },
   "outputs": [],
   "source": [
    "# conferindo se o índice e o id trazem o mesmo valor\n",
    "dados_indice.iloc[0,:]"
   ]
  },
  {
   "cell_type": "code",
   "execution_count": null,
   "metadata": {
    "id": "dOJoJ1zIAVTk"
   },
   "outputs": [],
   "source": [
    "# retornando o índice padrão\n",
    "dados_indice.reset_index(inplace=True)"
   ]
  },
  {
   "cell_type": "markdown",
   "metadata": {
    "id": "HNivjdu9zlU5"
   },
   "source": [
    "## <font color='gray'> **3° Desafio:**  \n",
    "\n",
    "1. usar a coluna latitude como índice\n",
    "2. remover o índice de latitude e deixar o índice padrão\n",
    "\n",
    " </font>"
   ]
  },
  {
   "cell_type": "code",
   "execution_count": null,
   "metadata": {
    "id": "SvEcZtjaUbe-",
    "outputId": "963e5032-fcc3-48b4-c866-0b1ffde4da13"
   },
   "outputs": [],
   "source": [
    "from IPython.display import Image\n",
    "from IPython.core.display import HTML\n",
    "Image(url=\"https://media.giphy.com/media/XoV0OMim9iQGjnLtBv/giphy.gif?cid=ecf05e47yyn92iffmsgb1hyw99u3e6hiurysgra611x3mflh&rid=giphy.gif&ct=g\")"
   ]
  },
  {
   "cell_type": "code",
   "execution_count": null,
   "metadata": {
    "id": "vBb3Bt2bUbe-",
    "outputId": "8d3898e1-25e1-47b6-b42e-103bd768371e"
   },
   "outputs": [],
   "source": [
    "# desafio 3.1\n"
   ]
  },
  {
   "cell_type": "code",
   "execution_count": null,
   "metadata": {
    "id": "cxEvqG6GUbe-",
    "outputId": "dbb60caf-9a06-42a6-aecc-fb64506becd7"
   },
   "outputs": [],
   "source": [
    "# desafio 3.2\n"
   ]
  },
  {
   "cell_type": "markdown",
   "metadata": {
    "id": "jc9oYExlAu_m"
   },
   "source": [
    "#  <font color='gray'> Selecionando com Operadores de Comparação\n",
    "\n",
    "Em alguns momentos precisamos usar operadores de comparação para fazer filtros.\n"
   ]
  },
  {
   "cell_type": "code",
   "execution_count": null,
   "metadata": {
    "colab": {
     "base_uri": "https://localhost:8080/"
    },
    "id": "vLll2qrNAiHd",
    "outputId": "18e2db81-fee1-4876-a60a-7c34aad4c634"
   },
   "outputs": [],
   "source": [
    "# usando os operadores de comparação para filtrar uma informação específica\n",
    "dados['dia_semana'] == 'domingo'"
   ]
  },
  {
   "cell_type": "code",
   "execution_count": null,
   "metadata": {
    "colab": {
     "base_uri": "https://localhost:8080/"
    },
    "id": "Q4vAC8Y-fv6X",
    "outputId": "8a683d39-8bac-4a90-cd48-2cf0a8dc93fb"
   },
   "outputs": [],
   "source": [
    "# salavando o resultado da condicao em uma variavel\n",
    "filtro_dia_semana = dados['dia_semana'] == 'domingo'\n",
    "filtro_dia_semana"
   ]
  },
  {
   "cell_type": "code",
   "execution_count": null,
   "metadata": {
    "colab": {
     "base_uri": "https://localhost:8080/",
     "height": 793
    },
    "id": "FW_sMC6tf5B2",
    "outputId": "ccbf97a6-5add-42f1-b28e-de778e9bb0c6"
   },
   "outputs": [],
   "source": [
    "# criando um novo dataframe com dados do dia da semana - domingo\n",
    "domingo = dados[filtro_dia_semana]\n",
    "domingo"
   ]
  },
  {
   "cell_type": "markdown",
   "metadata": {
    "id": "qBNpZnOs2KHT"
   },
   "source": [
    "## <font color='gray'> **4° Desafio:**  \n",
    "\n",
    "* selcionar apenas os dias da semana diferentes domingo.\n",
    "\n",
    "</font>"
   ]
  },
  {
   "cell_type": "code",
   "execution_count": null,
   "metadata": {
    "id": "69mL71exUbfC",
    "outputId": "70a1d494-6aa0-4dbe-f466-ee2fffc2e992"
   },
   "outputs": [],
   "source": [
    "from IPython.display import Image\n",
    "from IPython.core.display import HTML\n",
    "Image(url=\"https://media.giphy.com/media/XoV0OMim9iQGjnLtBv/giphy.gif?cid=ecf05e47yyn92iffmsgb1hyw99u3e6hiurysgra611x3mflh&rid=giphy.gif&ct=g\")"
   ]
  },
  {
   "cell_type": "code",
   "execution_count": null,
   "metadata": {
    "id": "q6NWrMPQUbfC",
    "outputId": "f8c68904-6b1c-4f05-c064-e13b41695ba6"
   },
   "outputs": [],
   "source": [
    "# Desafio 4\n"
   ]
  },
  {
   "cell_type": "markdown",
   "metadata": {
    "id": "ru6kB8YFDfz6"
   },
   "source": [
    "# <font color='gray'> Selecionando com Operadores Lógicos\n",
    "\n",
    "Os operadores lógicos em Python:\n"
   ]
  },
  {
   "cell_type": "code",
   "execution_count": null,
   "metadata": {
    "id": "5S1SCxx2ht4X"
   },
   "outputs": [],
   "source": [
    "# criando filtro com operadores lógicos\n",
    "filtro_uf = (dados['uf'] == 'DF')\n",
    "filtro_mortos = (dados['mortos'] < 2)"
   ]
  },
  {
   "cell_type": "code",
   "execution_count": null,
   "metadata": {
    "colab": {
     "base_uri": "https://localhost:8080/",
     "height": 793
    },
    "id": "HVPtCl5vNqtu",
    "outputId": "a655405b-0e46-48eb-ded9-2faa22e7605e"
   },
   "outputs": [],
   "source": [
    "# filtro com operadores de comparação e lógicos\n",
    "dados[filtro_uf & filtro_mortos]"
   ]
  },
  {
   "cell_type": "code",
   "execution_count": null,
   "metadata": {
    "colab": {
     "base_uri": "https://localhost:8080/",
     "height": 776
    },
    "id": "NQi-lCEWNuIg",
    "outputId": "48980179-d985-49cb-89fc-f9c354ba35c6"
   },
   "outputs": [],
   "source": [
    "# filtro com operadores de comparação e lógicos\n",
    "dados[(dados['dia_semana'] == 'quarta') |\n",
    "       (dados['dia_semana'] == 'quinta') |\n",
    "       (dados['dia_semana'] == 'sexta')]\n"
   ]
  },
  {
   "cell_type": "code",
   "execution_count": null,
   "metadata": {
    "colab": {
     "base_uri": "https://localhost:8080/",
     "height": 776
    },
    "id": "M4FEtZ7PNxtN",
    "outputId": "6d115cc5-2644-4395-b234-df437769de70"
   },
   "outputs": [],
   "source": [
    "# outra maneira de filtrar usando isin\n",
    "dados[dados['dia_semana'].isin(['quarta', 'quinta' , 'sexta'])]"
   ]
  },
  {
   "cell_type": "markdown",
   "metadata": {
    "id": "ynS3X4kR4YQU"
   },
   "source": [
    "## <font color='gray'> **5° Desafio:**  \n",
    "\n",
    "* filtrar utilizando a funçao isnin os Estados 'GO', 'DF' e 'MG'\n",
    "\n",
    "</font>"
   ]
  },
  {
   "cell_type": "code",
   "execution_count": null,
   "metadata": {
    "id": "wEfUSqWZUbfD",
    "outputId": "e05c69ec-4a27-43b1-9990-e9c4c227a985"
   },
   "outputs": [],
   "source": [
    "from IPython.display import Image\n",
    "from IPython.core.display import HTML\n",
    "Image(url=\"https://media.giphy.com/media/XoV0OMim9iQGjnLtBv/giphy.gif?cid=ecf05e47yyn92iffmsgb1hyw99u3e6hiurysgra611x3mflh&rid=giphy.gif&ct=g\")"
   ]
  },
  {
   "cell_type": "code",
   "execution_count": null,
   "metadata": {
    "id": "niGDQDcUUbfE",
    "outputId": "422567a3-2c6d-4a5a-db69-097c288078e4"
   },
   "outputs": [],
   "source": [
    "# Desafio 5\n"
   ]
  },
  {
   "cell_type": "markdown",
   "metadata": {
    "id": "AwlseB_oCoO1"
   },
   "source": [
    "#  <font color='gray'> Selecionando dados de outras maneiras\n",
    "\n",
    "**Documentação:**\n",
    "\n",
    "https://pandas.pydata.org/docs/reference/api/pandas.DataFrame.filter.html"
   ]
  },
  {
   "cell_type": "code",
   "execution_count": null,
   "metadata": {
    "colab": {
     "base_uri": "https://localhost:8080/",
     "height": 419
    },
    "id": "M-NfcX9zB-_M",
    "outputId": "ec18d3da-12c2-4312-d6a3-22f426831e27"
   },
   "outputs": [],
   "source": [
    "# filtrando por nome de coluna usando filter\n",
    "dados.filter(items=['dia_semana', 'tipo_acidente'])"
   ]
  },
  {
   "cell_type": "code",
   "execution_count": null,
   "metadata": {
    "colab": {
     "base_uri": "https://localhost:8080/",
     "height": 419
    },
    "id": "C8-qnon9CV36",
    "outputId": "1b858ddd-33df-48ef-915f-2476f71aa22c"
   },
   "outputs": [],
   "source": [
    "# selecionando coluna por expressão regular (regex)\n",
    "dados.filter(regex='s$', axis=1)"
   ]
  },
  {
   "cell_type": "markdown",
   "metadata": {
    "id": "VdbT5BS6Qivt"
   },
   "source": [
    "# Bora praticar...\n",
    "\n",
    "Pensando em uma analise que precisamos saber qual região teve mais casos de acidente em janeiro de 2025.\n",
    "\n",
    "* 1. Vamos selecionar e criar um datadrame para cada região do Brasil: `Norte`, `Nordeste`, `Centro-Oeste`, `Sudeste` e `Sul`;\n",
    "* 2. Qual regiao teve mais casos de acidentes? \n",
    "\n",
    "**Dicas:**\n",
    "\n",
    "1. Usar a coluna `uf` para selecionar a regiao; e\n",
    "2. Usar o atributo `shape` para ver a dimensao de cada dataframe criado.\n"
   ]
  },
  {
   "cell_type": "code",
   "execution_count": null,
   "metadata": {
    "id": "4FqxrorMUbfF",
    "outputId": "a853e124-11b5-4d94-e888-6dc949789f70"
   },
   "outputs": [],
   "source": [
    "from IPython.display import Image\n",
    "from IPython.core.display import HTML\n",
    "Image(url=\"https://media.giphy.com/media/hwvxuIKLEayDS/giphy.gif?cid=ecf05e47rxh2pqwr8rifkd01m1xblbozrww386bxy1xt50bm&rid=giphy.gif&ct=g\")"
   ]
  },
  {
   "cell_type": "markdown",
   "metadata": {
    "id": "h2BPopv1wXi_"
   },
   "source": [
    "#  Referências:\n",
    "\n",
    "Zumstein, F, Python for Excel - A Modern Environment for Automation and Data Analysis. O'Reilly Media, Inc., 2021"
   ]
  }
 ],
 "metadata": {
  "colab": {
   "collapsed_sections": [
    "FUC00IEj3dFu",
    "SpJxrOg07JaT",
    "1ryV-WzK9MeZ",
    "C3_Kiigt9pY1",
    "HWLqCrve-Qco",
    "PslmHvU5_2d9",
    "jc9oYExlAu_m",
    "ru6kB8YFDfz6",
    "AwlseB_oCoO1"
   ],
   "provenance": []
  },
  "interpreter": {
   "hash": "dac21ce987034d86a3cbfe403b03f86a4b233ff287bf96fdce008fd4ea0804ad"
  },
  "kernelspec": {
   "display_name": "Python 3",
   "language": "python",
   "name": "python3"
  },
  "language_info": {
   "codemirror_mode": {
    "name": "ipython",
    "version": 3
   },
   "file_extension": ".py",
   "mimetype": "text/x-python",
   "name": "python",
   "nbconvert_exporter": "python",
   "pygments_lexer": "ipython3",
   "version": "3.12.1"
  }
 },
 "nbformat": 4,
 "nbformat_minor": 0
}
