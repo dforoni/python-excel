{
 "cells": [
  {
   "cell_type": "markdown",
   "metadata": {
    "id": "KLNOXfinUben"
   },
   "source": [
    "# <font color='gray'>  Importando a Biblioteca Pandas\n",
    "\n",
    "----\n",
    "\n",
    "Sempre que abrimos um arquivo notebook precisamos importar a biblioteca Pandas."
   ]
  },
  {
   "cell_type": "code",
   "execution_count": null,
   "metadata": {
    "id": "uFph0KBYUbeo"
   },
   "outputs": [],
   "source": [
    "# importando a biblioteca Pandas\n",
    "import pandas as pd"
   ]
  },
  {
   "cell_type": "markdown",
   "metadata": {
    "id": "QzhX3eoCUbep"
   },
   "source": [
    "# <font color='gray'>  Carregando os dados\n",
    "\n",
    "----  \n",
    "\n",
    "**fonte:** https://www.gov.br/prf/pt-br/acesso-a-informacao/dados-abertos/dados-abertos-acidentes"
   ]
  },
  {
   "cell_type": "code",
   "execution_count": null,
   "metadata": {
    "id": "ECoCk3YQUbeq",
    "outputId": "326e9cbd-fe55-4773-f804-0e078d2c5f4a"
   },
   "outputs": [],
   "source": [
    "# carregando os dados\n",
    "dados = pd.read_csv('dados/acidentes2025.csv', sep=';', encoding=\"latin-1\")\n",
    "dados.head()"
   ]
  },
  {
   "cell_type": "markdown",
   "metadata": {
    "id": "c8R3pL1hUber"
   },
   "source": [
    "# <font color='gray'>  Inspecionando os dados\n",
    "\n",
    "----"
   ]
  },
  {
   "cell_type": "code",
   "execution_count": null,
   "metadata": {
    "id": "cBn9CuSgUbes",
    "outputId": "158178ee-97e8-4579-9ed9-33b21e960763"
   },
   "outputs": [],
   "source": [
    "# verificando a dimensao do dataframe\n",
    "dados.shape"
   ]
  },
  {
   "cell_type": "code",
   "execution_count": null,
   "metadata": {
    "id": "zG-3gT73Ubes",
    "outputId": "5d16bbea-c252-4ffc-c8e5-6d34be2eead4"
   },
   "outputs": [],
   "source": [
    "# informacoes do dataframe\n",
    "dados.info()"
   ]
  },
  {
   "cell_type": "code",
   "execution_count": null,
   "metadata": {
    "id": "KhdPJQkrUbet",
    "outputId": "a21d3355-cb71-4121-df4b-e0567461d52e"
   },
   "outputs": [],
   "source": [
    "# verificando os dados unicos da variavel 'data_inversa'\n",
    "dados['data_inversa'].nunique()"
   ]
  },
  {
   "cell_type": "markdown",
   "metadata": {
    "id": "qO9oUFyV3GyX"
   },
   "source": [
    "#  <font color='gray'>  Tratamento de dados\n",
    "\n",
    "----\n",
    "\n",
    "Para iniciar nossas análises precisamos fazer alguns tratamentos nos dados.\n",
    "\n",
    "**Documentação:**\n",
    "\n",
    "Tratamento de  data:\n",
    "https://pandas.pydata.org/docs/reference/api/pandas.to_datetime.html"
   ]
  },
  {
   "cell_type": "code",
   "execution_count": null,
   "metadata": {},
   "outputs": [],
   "source": [
    "# convertendo o tipo objeto para tipo de data\n",
    "dados[\"data_inversa\"] = pd.to_datetime(dados[\"data_inversa\"])\n",
    "dados[\"data_inversa\"].dtypes"
   ]
  },
  {
   "cell_type": "code",
   "execution_count": null,
   "metadata": {},
   "outputs": [],
   "source": [
    "# convertendo o tipo objeto para tipo float\n",
    "dados[\"km\"] = dados[\"km\"].astype(\"float\")\n",
    "dados[\"km\"].dtypes"
   ]
  },
  {
   "cell_type": "code",
   "execution_count": null,
   "metadata": {},
   "outputs": [],
   "source": [
    "# substituindo o \",\" por \".\"\"\n",
    "dados[\"km\"] = dados[\"km\"].str.replace(\",\", \".\")\n",
    "dados[\"km\"].dtypes"
   ]
  },
  {
   "cell_type": "code",
   "execution_count": null,
   "metadata": {},
   "outputs": [],
   "source": [
    "# convertendo o tipo objeto para tipo float\n",
    "dados[\"km\"] = dados[\"km\"].astype(\"float\")\n",
    "dados[\"km\"].dtypes"
   ]
  },
  {
   "cell_type": "markdown",
   "metadata": {},
   "source": [
    "## <font color='gray'> Criando novas colunas\n",
    "\n",
    "---\n"
   ]
  },
  {
   "cell_type": "code",
   "execution_count": null,
   "metadata": {},
   "outputs": [],
   "source": [
    "# criando uma nova coluna com a informacao do ano\n",
    "dados[\"ano\"] = dados[\"data_inversa\"].dt.year\n",
    "dados"
   ]
  },
  {
   "cell_type": "code",
   "execution_count": null,
   "metadata": {},
   "outputs": [],
   "source": [
    "# criando uma nova coluna com a informacao do mes\n",
    "dados[\"mes\"] = dados[\"data_inversa\"].dt.month\n",
    "dados"
   ]
  },
  {
   "cell_type": "code",
   "execution_count": null,
   "metadata": {},
   "outputs": [],
   "source": [
    "# criando uma nova coluna com a informacao do dia\n",
    "dados[\"dia\"] = dados[\"data_inversa\"].dt.day\n",
    "dados"
   ]
  },
  {
   "cell_type": "code",
   "execution_count": null,
   "metadata": {},
   "outputs": [],
   "source": [
    "# criando uma nova coluna com a informacao do dia da semana - Monday=0 e Sunday=6\n",
    "dados['dia_semana_nova'] = dados['data_inversa'].dt.weekday\n",
    "dados"
   ]
  },
  {
   "cell_type": "code",
   "execution_count": null,
   "metadata": {},
   "outputs": [],
   "source": [
    "# excluindo coluna \n",
    "dados.drop(columns='dia_semana_nova', axis=1)"
   ]
  },
  {
   "cell_type": "markdown",
   "metadata": {},
   "source": [
    "## <font color='gray'> Estatística Descritiva\n",
    "\n",
    "---\n",
    "\n",
    "**Documentação:**\n",
    "\n",
    "https://pandas.pydata.org/docs/reference/api/pandas.DataFrame.describe.html"
   ]
  },
  {
   "cell_type": "code",
   "execution_count": null,
   "metadata": {},
   "outputs": [],
   "source": [
    "# média\n",
    "dados[\"mortos\"].mean()"
   ]
  },
  {
   "cell_type": "code",
   "execution_count": null,
   "metadata": {},
   "outputs": [],
   "source": [
    "# mediana\n",
    "dados[\"mortos\"].median()"
   ]
  },
  {
   "cell_type": "code",
   "execution_count": null,
   "metadata": {},
   "outputs": [],
   "source": [
    "# mmoda\n",
    "dados[\"mortos\"].mode()"
   ]
  },
  {
   "cell_type": "code",
   "execution_count": null,
   "metadata": {},
   "outputs": [],
   "source": [
    "# minímo\n",
    "dados[\"mortos\"].min()"
   ]
  },
  {
   "cell_type": "code",
   "execution_count": null,
   "metadata": {},
   "outputs": [],
   "source": [
    "# maxímo\n",
    "dados[\"mortos\"].max()"
   ]
  },
  {
   "cell_type": "code",
   "execution_count": null,
   "metadata": {},
   "outputs": [],
   "source": [
    "# método describe\n",
    "dados.describe()"
   ]
  },
  {
   "cell_type": "code",
   "execution_count": null,
   "metadata": {},
   "outputs": [],
   "source": [
    "# formatando os valores float\n",
    "pd.options.display.float_format = '{:,.2f}'.format"
   ]
  },
  {
   "cell_type": "markdown",
   "metadata": {},
   "source": [
    "# <font color='gray'> Bora praticar... \n",
    "\n",
    "Pensando que precisamos saber quais os valores minímo, máximo, média de mortes dos Estados de SP, MG.\n",
    "\n",
    "* 1. Criar um *dataframe* com dados apenas de cada Estado ;\n",
    "* 2. Utilizar o método *describe*; "
   ]
  },
  {
   "cell_type": "code",
   "execution_count": null,
   "metadata": {},
   "outputs": [],
   "source": [
    "from IPython.display import Image\n",
    "from IPython.core.display import HTML \n",
    "Image(url=\"https://media.giphy.com/media/hwvxuIKLEayDS/giphy.gif?cid=ecf05e47rxh2pqwr8rifkd01m1xblbozrww386bxy1xt50bm&rid=giphy.gif&ct=g\")"
   ]
  },
  {
   "cell_type": "code",
   "execution_count": null,
   "metadata": {},
   "outputs": [],
   "source": [
    "# resposta"
   ]
  },
  {
   "cell_type": "markdown",
   "metadata": {},
   "source": [
    "# <font color='gray'> Analisando os dados\n",
    "\n",
    "---\n",
    "**Documentacao:**\n",
    "\n",
    "https://pandas.pydata.org/docs/reference/api/pandas.Series.value_counts.html\n",
    "\n",
    "https://pandas.pydata.org/docs/reference/groupby.html\n",
    "\n",
    "https://pandas.pydata.org/docs/reference/api/pandas.pivot_table.html"
   ]
  },
  {
   "cell_type": "code",
   "execution_count": null,
   "metadata": {},
   "outputs": [],
   "source": [
    "# Qual a distribuicao de pessoas envolvidads em acidentes por dia da semana? (valor absoluto)\n",
    "dados[\"dia_semana\"].value_counts()"
   ]
  },
  {
   "cell_type": "code",
   "execution_count": null,
   "metadata": {},
   "outputs": [],
   "source": [
    "# Qual a distribuicao de pessoas envolvidads em acidentes por dia da semana? (percentual)\n",
    "dados[\"dia_semana\"].value_counts(normalize=True)"
   ]
  },
  {
   "cell_type": "code",
   "execution_count": null,
   "metadata": {},
   "outputs": [],
   "source": [
    "# Qual era a condicao metereologica na hora do acidentes?\n",
    "#  groupby com a função agg, usando as duas funções conseguimos definir qual coluna vamos agrupar os dados e com coluna vamos usar para ter os valores. \n",
    "dados.groupby(by='condicao_metereologica', as_index=False)['id'].agg(['count'])\n"
   ]
  },
  {
   "cell_type": "code",
   "execution_count": null,
   "metadata": {},
   "outputs": [],
   "source": [
    "# Além da quantidade, qual foi a média de feridos leve por condicao metereologica\n",
    "dados.groupby(by='condicao_metereologica', as_index=False)['feridos_leves'].agg(['count', 'mean'])"
   ]
  },
  {
   "cell_type": "code",
   "execution_count": null,
   "metadata": {},
   "outputs": [],
   "source": [
    "# Além da quantidade, qual foi a média, min e max de feridos leve por condicao metereologica\n",
    "dados.groupby(by='condicao_metereologica', as_index=False)['feridos_leves'].agg(['count', 'mean', \"min\", \"max\"])"
   ]
  },
  {
   "cell_type": "code",
   "execution_count": null,
   "metadata": {},
   "outputs": [],
   "source": [
    "# Agora, vamos analisar observando também a fase do dia\n",
    "# groupby com a função agg, usando as duas funções conseguimos definir qual coluna vamos agrupar os dados e com coluna vamos usar para ter os valores. \n",
    "# 'condicao_metereologica', 'fase_dia'\n",
    "dados.groupby(by=['condicao_metereologica', 'fase_dia'], as_index=False)['mortos'].agg(['count', 'min', 'max', 'mean', 'median'])\n",
    "                           \n"
   ]
  },
  {
   "cell_type": "code",
   "execution_count": null,
   "metadata": {},
   "outputs": [],
   "source": [
    "# Agg com colunas e métricas diferentes para analisar feridos leves e mortos por condicao e fase do dia\n",
    "dados.groupby(by=['condicao_metereologica', 'fase_dia'], as_index=False).\\\n",
    "                               agg({'feridos_leves': ['sum', 'min', 'max'],\n",
    "                                    'mortos':  ['sum', 'min', 'max']})\n"
   ]
  },
  {
   "cell_type": "code",
   "execution_count": null,
   "metadata": {},
   "outputs": [],
   "source": [
    "# outra maneira de agrupar os dados\n",
    "dados.pivot_table(index='condicao_metereologica',\n",
    "                              columns='fase_dia',\n",
    "                              values='mortos',\n",
    "                              aggfunc='sum',\n",
    "                              margins=True,\n",
    "                              margins_name='Total')"
   ]
  },
  {
   "cell_type": "markdown",
   "metadata": {},
   "source": [
    "# <font color='gray'> O que mais vocês analisariam?\n",
    "\n",
    "---"
   ]
  },
  {
   "cell_type": "code",
   "execution_count": null,
   "metadata": {},
   "outputs": [],
   "source": [
    "from IPython.display import Image\n",
    "from IPython.core.display import HTML \n",
    "Image(url=\"https://media.giphy.com/media/hwvxuIKLEayDS/giphy.gif?cid=ecf05e47rxh2pqwr8rifkd01m1xblbozrww386bxy1xt50bm&rid=giphy.gif&ct=g\")"
   ]
  }
 ],
 "metadata": {
  "colab": {
   "collapsed_sections": [
    "FUC00IEj3dFu",
    "SpJxrOg07JaT",
    "1ryV-WzK9MeZ",
    "C3_Kiigt9pY1",
    "HWLqCrve-Qco",
    "PslmHvU5_2d9",
    "jc9oYExlAu_m",
    "ru6kB8YFDfz6",
    "AwlseB_oCoO1"
   ],
   "provenance": []
  },
  "interpreter": {
   "hash": "dac21ce987034d86a3cbfe403b03f86a4b233ff287bf96fdce008fd4ea0804ad"
  },
  "kernelspec": {
   "display_name": "Python 3",
   "language": "python",
   "name": "python3"
  },
  "language_info": {
   "codemirror_mode": {
    "name": "ipython",
    "version": 3
   },
   "file_extension": ".py",
   "mimetype": "text/x-python",
   "name": "python",
   "nbconvert_exporter": "python",
   "pygments_lexer": "ipython3",
   "version": "3.12.1"
  }
 },
 "nbformat": 4,
 "nbformat_minor": 0
}
